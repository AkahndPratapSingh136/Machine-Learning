{
  "nbformat": 4,
  "nbformat_minor": 0,
  "metadata": {
    "colab": {
      "provenance": [],
      "authorship_tag": "ABX9TyMMCtYccKemPxMnmNgbWBfk",
      "include_colab_link": true
    },
    "kernelspec": {
      "name": "python3",
      "display_name": "Python 3"
    },
    "language_info": {
      "name": "python"
    }
  },
  "cells": [
    {
      "cell_type": "markdown",
      "metadata": {
        "id": "view-in-github",
        "colab_type": "text"
      },
      "source": [
        "<a href=\"https://colab.research.google.com/github/AkahndPratapSingh136/Machine-Learning/blob/main/_SQLite.ipynb\" target=\"_parent\"><img src=\"https://colab.research.google.com/assets/colab-badge.svg\" alt=\"Open In Colab\"/></a>"
      ]
    },
    {
      "cell_type": "code",
      "execution_count": null,
      "metadata": {
        "colab": {
          "base_uri": "https://localhost:8080/"
        },
        "id": "rBXcfOzoAL1Z",
        "outputId": "f01f1926-cf15-4065-ab4a-fff365fc4856"
      },
      "outputs": [
        {
          "output_type": "stream",
          "name": "stdout",
          "text": [
            "Opened database successfully\n"
          ]
        }
      ],
      "source": [
        "import sqlite3\n",
        "conn=sqlite3.connect('test.db')\n",
        "print(\"Opened database successfully\")"
      ]
    },
    {
      "cell_type": "code",
      "source": [
        "conn = sqlite3.connect('test.db')\n",
        "print(\"Opened database successfully\")\n",
        "conn.execute('''CREATE TABLE COMPANY\n",
        "         (ID INT PRIMARY KEY     NOT NULL,\n",
        "         NAME           TEXT    NOT NULL,\n",
        "         AGE            INT     NOT NULL,\n",
        "         ADDRESS        CHAR(50),\n",
        "         SALARY         REAL);''')\n",
        "print(\"Table database successfully\")\n",
        "conn.close()"
      ],
      "metadata": {
        "colab": {
          "base_uri": "https://localhost:8080/"
        },
        "id": "5JR2ObrtBiG8",
        "outputId": "1711705a-4c1e-472c-e5b3-7b612c836832"
      },
      "execution_count": null,
      "outputs": [
        {
          "output_type": "stream",
          "name": "stdout",
          "text": [
            "Opened database successfully\n",
            "Table database successfully\n"
          ]
        }
      ]
    },
    {
      "cell_type": "code",
      "source": [
        "import sqlite3\n",
        "conn=sqlite3.connect('test.db')"
      ],
      "metadata": {
        "id": "cQbzCS6WCFcm"
      },
      "execution_count": null,
      "outputs": []
    },
    {
      "cell_type": "code",
      "source": [
        "conn.execute(\"INSERT INTO COMPANY  (ID, NAME, AGE, ADDRESS, SALARY)\\\n",
        "             VALUES(1,'MARKS', 25, 'Calfornia',2000.0)\");\n",
        "conn.execute(\"INSERT INTO COMPANY (ID,NAME,AGE,ADDRESS,SALARY) \\\n",
        "      VALUES (2, 'Allen', 25, 'Texas', 15000.00 )\");\n",
        "\n",
        "conn.execute(\"INSERT INTO COMPANY (ID,NAME,AGE,ADDRESS,SALARY) \\\n",
        "      VALUES (3, 'Teddy', 23, 'Norway', 20000.00 )\");\n",
        "\n",
        "conn.execute(\"INSERT INTO COMPANY (ID,NAME,AGE,ADDRESS,SALARY) \\\n",
        "      VALUES (4, 'Mark', 25, 'Rich-Mond ', 65000.00 )\");\n",
        "\n",
        "conn.commit()\n",
        "print(\"Records created successfully\")\n",
        "conn.close()"
      ],
      "metadata": {
        "colab": {
          "base_uri": "https://localhost:8080/",
          "height": 235
        },
        "id": "jF2qFtDQCtSm",
        "outputId": "e9952d6a-5790-4c5f-9e6f-52ce343053a6"
      },
      "execution_count": null,
      "outputs": [
        {
          "output_type": "error",
          "ename": "IntegrityError",
          "evalue": "ignored",
          "traceback": [
            "\u001b[0;31m---------------------------------------------------------------------------\u001b[0m",
            "\u001b[0;31mIntegrityError\u001b[0m                            Traceback (most recent call last)",
            "\u001b[0;32m<ipython-input-8-2e6908d79f69>\u001b[0m in \u001b[0;36m<module>\u001b[0;34m\u001b[0m\n\u001b[1;32m      8\u001b[0m \u001b[0;34m\u001b[0m\u001b[0m\n\u001b[1;32m      9\u001b[0m conn.execute(\"INSERT INTO COMPANY (ID,NAME,AGE,ADDRESS,SALARY) \\\n\u001b[0;32m---> 10\u001b[0;31m       VALUES (4, 'Mark', 25, 'Rich-Mond ', 65000.00 )\");\n\u001b[0m\u001b[1;32m     11\u001b[0m \u001b[0;34m\u001b[0m\u001b[0m\n\u001b[1;32m     12\u001b[0m \u001b[0mconn\u001b[0m\u001b[0;34m.\u001b[0m\u001b[0mcommit\u001b[0m\u001b[0;34m(\u001b[0m\u001b[0;34m)\u001b[0m\u001b[0;34m\u001b[0m\u001b[0;34m\u001b[0m\u001b[0m\n",
            "\u001b[0;31mIntegrityError\u001b[0m: UNIQUE constraint failed: COMPANY.ID"
          ]
        }
      ]
    },
    {
      "cell_type": "code",
      "source": [
        "import numpy as np\n",
        "arr=np.arange(10,49)"
      ],
      "metadata": {
        "id": "L4yFGiibD9Ci"
      },
      "execution_count": null,
      "outputs": []
    },
    {
      "cell_type": "code",
      "source": [
        "arr"
      ],
      "metadata": {
        "colab": {
          "base_uri": "https://localhost:8080/"
        },
        "id": "jJ6F7MJ6POCr",
        "outputId": "9286c11c-21c7-414a-ab91-f44101164329"
      },
      "execution_count": null,
      "outputs": [
        {
          "output_type": "execute_result",
          "data": {
            "text/plain": [
              "array([10, 11, 12, 13, 14, 15, 16, 17, 18, 19, 20, 21, 22, 23, 24, 25, 26,\n",
              "       27, 28, 29, 30, 31, 32, 33, 34, 35, 36, 37, 38, 39, 40, 41, 42, 43,\n",
              "       44, 45, 46, 47, 48])"
            ]
          },
          "metadata": {},
          "execution_count": 10
        }
      ]
    },
    {
      "cell_type": "code",
      "source": [
        "test_list=[2323, 82, 129388, 234, 95]\n"
      ],
      "metadata": {
        "id": "4OUHsiukPOwu"
      },
      "execution_count": null,
      "outputs": []
    },
    {
      "cell_type": "code",
      "source": [
        "import sqlite3\n",
        "conn=sqlite3.connect('example.db')\n",
        "cursor=conn.cursor()\n",
        "cursor.execute(\"DROP TABLE IF EXISTS EMPLOYEE\")\n",
        "sql='''CREATE TABLE EMPLOYEE(\n",
        "  FIRST_NAME CHAR(20) NOT NULL,\n",
        "  LAST_NAME CHAR(20),\n",
        "  AGE INT, \n",
        "  SEX CHAR(1),\n",
        "  INCOME FLOAT\n",
        ")'''\n",
        "cursor.execute(sql)\n",
        "\n",
        "#Populating the table\n",
        "cursor.execute('''INSERT INTO EMPLOYEE(\n",
        "  FIRST_NAME, LAST_NAME, AGE, SEX, INCOME) VALUES\n",
        "  ('Ramya', 'Rama Priya', 27, 'F', 9000)''')\n",
        "cursor.execute('''INSERT INTO EMPLOYEE(\n",
        "  FIRST_NAME, LAST_NAME, AGE, SEX, INCOME) VALUES\n",
        "  ('Vinay', 'Battacharya', 20, 'M', 6000)''')\n",
        "cursor.execute('''INSERT INTO EMPLOYEE(\n",
        "  FIRST_NAME, LAST_NAME, AGE, SEX, INCOME) VALUES\n",
        "  ('Sharukh', 'Sheik', 25, 'M', 8300)''')\n",
        "cursor.execute('''INSERT INTO EMPLOYEE(\n",
        "  FIRST_NAME, LAST_NAME, AGE, SEX, INCOME) VALUES\n",
        "  ('Sarmista', 'Sharma', 25, 'F', 10000)''')"
      ],
      "metadata": {
        "colab": {
          "base_uri": "https://localhost:8080/"
        },
        "id": "_rQm1oxrMNkP",
        "outputId": "6874da5e-59d2-4897-a4d3-8550efa28348"
      },
      "execution_count": null,
      "outputs": [
        {
          "output_type": "execute_result",
          "data": {
            "text/plain": [
              "<sqlite3.Cursor at 0x7fd6b8c560a0>"
            ]
          },
          "metadata": {},
          "execution_count": 5
        }
      ]
    },
    {
      "cell_type": "code",
      "source": [
        "cursor.execute(\"select * from EMPLOYEE\")\n",
        "print(cursor.fetchall)"
      ],
      "metadata": {
        "colab": {
          "base_uri": "https://localhost:8080/"
        },
        "id": "bmGXaTfaNA4W",
        "outputId": "719f16e0-a3dc-4bc1-cc95-a59cb8f7e1ac"
      },
      "execution_count": null,
      "outputs": [
        {
          "output_type": "stream",
          "name": "stdout",
          "text": [
            "<built-in method fetchall of sqlite3.Cursor object at 0x7fd6b8c560a0>\n"
          ]
        }
      ]
    },
    {
      "cell_type": "code",
      "source": [],
      "metadata": {
        "id": "csS_fEjfPt0S"
      },
      "execution_count": null,
      "outputs": []
    }
  ]
}